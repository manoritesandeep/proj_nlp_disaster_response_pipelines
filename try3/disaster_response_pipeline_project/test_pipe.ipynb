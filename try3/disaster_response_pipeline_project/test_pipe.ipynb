{
 "cells": [
  {
   "cell_type": "code",
   "execution_count": null,
   "metadata": {},
   "outputs": [],
   "source": [
    "# import packages\n",
    "import sys\n",
    "from data.process_data import clean_data, save_data\n",
    "from models.train_classifier import *\n",
    "\n",
    "import pandas as pd\n",
    "import numpy as np\n",
    "from sqlalchemy import create_engine\n",
    "import nltk\n",
    "nltk.download(['stopwords','wordnet','punkt','averaged_perceptron_tagger'])\n",
    "from nltk.tokenize import word_tokenize\n",
    "from nltk.stem import WordNetLemmatizer\n",
    "from sklearn.pipeline import Pipeline\n",
    "from sklearn.feature_extraction.text import CountVectorizer, TfidfTransformer\n",
    "from sklearn.multioutput import MultiOutputClassifier\n",
    "from sklearn.ensemble import RandomForestClassifier\n",
    "from sklearn.model_selection import train_test_split\n",
    "from sklearn.metrics import classification_report\n",
    "from sklearn.model_selection import GridSearchCV"
   ]
  },
  {
   "cell_type": "code",
   "execution_count": 48,
   "metadata": {},
   "outputs": [
    {
     "name": "stdout",
     "output_type": "stream",
     "text": [
      "disaster_messages\n"
     ]
    }
   ],
   "source": [
    "from sqlalchemy import create_engine\n",
    "from sqlalchemy import inspect\n",
    "\n",
    "# Create an engine to connect to the database\n",
    "engine = create_engine('sqlite:///Disaster_pipedata1.db')\n",
    "\n",
    "# Create an inspector object\n",
    "inspector = inspect(engine)\n",
    "\n",
    "# Get the table names\n",
    "table_names = inspector.get_table_names()\n",
    "\n",
    "# Print the table names\n",
    "for table_name in table_names:\n",
    "    print(table_name)"
   ]
  },
  {
   "cell_type": "code",
   "execution_count": 49,
   "metadata": {},
   "outputs": [
    {
     "data": {
      "text/plain": [
       "26215"
      ]
     },
     "execution_count": 49,
     "metadata": {},
     "output_type": "execute_result"
    }
   ],
   "source": [
    "df = pd.read_sql_table('disaster_messages', engine)\n",
    "len(df)"
   ]
  },
  {
   "cell_type": "code",
   "execution_count": 50,
   "metadata": {},
   "outputs": [],
   "source": [
    "def load_data(data_file):\n",
    "    # read in file\n",
    "    engine = create_engine('sqlite:///' + data_file)\n",
    "    df = pd.read_sql_table('disaster_messages', engine)\n",
    "\n",
    "    # clean data  # load to database\n",
    "\n",
    "    # define features and label arrays\n",
    "    X = df['message']\n",
    "    Y = df.iloc[:, 4:]\n",
    "    category_names = Y.columns.tolist()\n",
    "    return X, Y, category_names"
   ]
  },
  {
   "cell_type": "code",
   "execution_count": 51,
   "metadata": {},
   "outputs": [
    {
     "data": {
      "text/plain": [
       "(0        Weather update - a cold front from Cuba that c...\n",
       " 1                  Is the Hurricane over or is it not over\n",
       " 2                          Looking for someone but no name\n",
       " 3        UN reports Leogane 80-90 destroyed. Only Hospi...\n",
       " 4        says: west side of Haiti, rest of the country ...\n",
       "                                ...                        \n",
       " 26210    The training demonstrated how to enhance micro...\n",
       " 26211    A suitable candidate has been selected and OCH...\n",
       " 26212    Proshika, operating in Cox's Bazar municipalit...\n",
       " 26213    Some 2,000 women protesting against the conduc...\n",
       " 26214    A radical shift in thinking came about as a re...\n",
       " Name: message, Length: 26215, dtype: object,\n",
       "        related  request  offer  aid_related  medical_help  medical_products  \\\n",
       " 0            1        0      0            0             0                 0   \n",
       " 1            1        0      0            1             0                 0   \n",
       " 2            1        0      0            0             0                 0   \n",
       " 3            1        1      0            1             0                 1   \n",
       " 4            1        0      0            0             0                 0   \n",
       " ...        ...      ...    ...          ...           ...               ...   \n",
       " 26210        0        0      0            0             0                 0   \n",
       " 26211        0        0      0            0             0                 0   \n",
       " 26212        1        0      0            0             0                 0   \n",
       " 26213        1        0      0            1             0                 0   \n",
       " 26214        1        0      0            0             0                 0   \n",
       " \n",
       "        search_and_rescue  security  military  child_alone  ...  aid_centers  \\\n",
       " 0                      0         0         0            0  ...            0   \n",
       " 1                      0         0         0            0  ...            0   \n",
       " 2                      0         0         0            0  ...            0   \n",
       " 3                      0         0         0            0  ...            0   \n",
       " 4                      0         0         0            0  ...            0   \n",
       " ...                  ...       ...       ...          ...  ...          ...   \n",
       " 26210                  0         0         0            0  ...            0   \n",
       " 26211                  0         0         0            0  ...            0   \n",
       " 26212                  0         0         0            0  ...            0   \n",
       " 26213                  0         0         1            0  ...            0   \n",
       " 26214                  0         0         0            0  ...            0   \n",
       " \n",
       "        other_infrastructure  weather_related  floods  storm  fire  earthquake  \\\n",
       " 0                         0                0       0      0     0           0   \n",
       " 1                         0                1       0      1     0           0   \n",
       " 2                         0                0       0      0     0           0   \n",
       " 3                         0                0       0      0     0           0   \n",
       " 4                         0                0       0      0     0           0   \n",
       " ...                     ...              ...     ...    ...   ...         ...   \n",
       " 26210                     0                0       0      0     0           0   \n",
       " 26211                     0                0       0      0     0           0   \n",
       " 26212                     0                0       0      0     0           0   \n",
       " 26213                     0                0       0      0     0           0   \n",
       " 26214                     0                0       0      0     0           0   \n",
       " \n",
       "        cold  other_weather  direct_report  \n",
       " 0         0              0              0  \n",
       " 1         0              0              0  \n",
       " 2         0              0              0  \n",
       " 3         0              0              0  \n",
       " 4         0              0              0  \n",
       " ...     ...            ...            ...  \n",
       " 26210     0              0              0  \n",
       " 26211     0              0              0  \n",
       " 26212     0              0              0  \n",
       " 26213     0              0              0  \n",
       " 26214     0              0              0  \n",
       " \n",
       " [26215 rows x 36 columns],\n",
       " ['related',\n",
       "  'request',\n",
       "  'offer',\n",
       "  'aid_related',\n",
       "  'medical_help',\n",
       "  'medical_products',\n",
       "  'search_and_rescue',\n",
       "  'security',\n",
       "  'military',\n",
       "  'child_alone',\n",
       "  'water',\n",
       "  'food',\n",
       "  'shelter',\n",
       "  'clothing',\n",
       "  'money',\n",
       "  'missing_people',\n",
       "  'refugees',\n",
       "  'death',\n",
       "  'other_aid',\n",
       "  'infrastructure_related',\n",
       "  'transport',\n",
       "  'buildings',\n",
       "  'electricity',\n",
       "  'tools',\n",
       "  'hospitals',\n",
       "  'shops',\n",
       "  'aid_centers',\n",
       "  'other_infrastructure',\n",
       "  'weather_related',\n",
       "  'floods',\n",
       "  'storm',\n",
       "  'fire',\n",
       "  'earthquake',\n",
       "  'cold',\n",
       "  'other_weather',\n",
       "  'direct_report'])"
      ]
     },
     "execution_count": 51,
     "metadata": {},
     "output_type": "execute_result"
    }
   ],
   "source": [
    "load_data(data_file=\"Disaster_pipedata1.db\")"
   ]
  },
  {
   "cell_type": "code",
   "execution_count": 53,
   "metadata": {},
   "outputs": [
    {
     "name": "stdout",
     "output_type": "stream",
     "text": [
      "26215\n",
      "26215\n",
      "['related', 'request', 'offer', 'aid_related', 'medical_help', 'medical_products', 'search_and_rescue', 'security', 'military', 'child_alone', 'water', 'food', 'shelter', 'clothing', 'money', 'missing_people', 'refugees', 'death', 'other_aid', 'infrastructure_related', 'transport', 'buildings', 'electricity', 'tools', 'hospitals', 'shops', 'aid_centers', 'other_infrastructure', 'weather_related', 'floods', 'storm', 'fire', 'earthquake', 'cold', 'other_weather', 'direct_report']\n"
     ]
    }
   ],
   "source": [
    "X, y, category_names  = load_data(data_file=\"Disaster_pipedata1.db\")\n",
    "print(len(X))\n",
    "print(len(y))\n",
    "print(category_names)\n"
   ]
  },
  {
   "cell_type": "code",
   "execution_count": 54,
   "metadata": {},
   "outputs": [],
   "source": [
    "from models.train_classifier import tokenize"
   ]
  },
  {
   "cell_type": "code",
   "execution_count": 59,
   "metadata": {},
   "outputs": [],
   "source": [
    "small_pipe = Pipeline([\n",
    "    ('vect', CountVectorizer(tokenizer=tokenize)),\n",
    "    ('tfidf', TfidfTransformer()),\n",
    "    ('clf', MultiOutputClassifier(RandomForestClassifier()))\n",
    "])"
   ]
  },
  {
   "cell_type": "code",
   "execution_count": 57,
   "metadata": {},
   "outputs": [
    {
     "name": "stdout",
     "output_type": "stream",
     "text": [
      "19661\n",
      "6554\n",
      "19661\n",
      "6554\n"
     ]
    }
   ],
   "source": [
    "X_train, X_test, y_train, y_test = train_test_split(X, y, test_size=0.25, random_state=42)\n",
    "print(f\"{len(X_train)}\\n{len(X_test)}\\n{len(y_train)}\\n{len(y_test)}\")"
   ]
  },
  {
   "cell_type": "code",
   "execution_count": 60,
   "metadata": {},
   "outputs": [
    {
     "name": "stderr",
     "output_type": "stream",
     "text": [
      "c:\\Users\\manor\\Downloads\\05 Project_Disaster Resoponse Pipelines\\proj_uda_nlpdis_venv\\lib\\site-packages\\sklearn\\feature_extraction\\text.py:525: UserWarning: The parameter 'token_pattern' will not be used since 'tokenizer' is not None'\n",
      "  warnings.warn(\n"
     ]
    },
    {
     "data": {
      "text/html": [
       "<style>#sk-container-id-1 {color: black;}#sk-container-id-1 pre{padding: 0;}#sk-container-id-1 div.sk-toggleable {background-color: white;}#sk-container-id-1 label.sk-toggleable__label {cursor: pointer;display: block;width: 100%;margin-bottom: 0;padding: 0.3em;box-sizing: border-box;text-align: center;}#sk-container-id-1 label.sk-toggleable__label-arrow:before {content: \"▸\";float: left;margin-right: 0.25em;color: #696969;}#sk-container-id-1 label.sk-toggleable__label-arrow:hover:before {color: black;}#sk-container-id-1 div.sk-estimator:hover label.sk-toggleable__label-arrow:before {color: black;}#sk-container-id-1 div.sk-toggleable__content {max-height: 0;max-width: 0;overflow: hidden;text-align: left;background-color: #f0f8ff;}#sk-container-id-1 div.sk-toggleable__content pre {margin: 0.2em;color: black;border-radius: 0.25em;background-color: #f0f8ff;}#sk-container-id-1 input.sk-toggleable__control:checked~div.sk-toggleable__content {max-height: 200px;max-width: 100%;overflow: auto;}#sk-container-id-1 input.sk-toggleable__control:checked~label.sk-toggleable__label-arrow:before {content: \"▾\";}#sk-container-id-1 div.sk-estimator input.sk-toggleable__control:checked~label.sk-toggleable__label {background-color: #d4ebff;}#sk-container-id-1 div.sk-label input.sk-toggleable__control:checked~label.sk-toggleable__label {background-color: #d4ebff;}#sk-container-id-1 input.sk-hidden--visually {border: 0;clip: rect(1px 1px 1px 1px);clip: rect(1px, 1px, 1px, 1px);height: 1px;margin: -1px;overflow: hidden;padding: 0;position: absolute;width: 1px;}#sk-container-id-1 div.sk-estimator {font-family: monospace;background-color: #f0f8ff;border: 1px dotted black;border-radius: 0.25em;box-sizing: border-box;margin-bottom: 0.5em;}#sk-container-id-1 div.sk-estimator:hover {background-color: #d4ebff;}#sk-container-id-1 div.sk-parallel-item::after {content: \"\";width: 100%;border-bottom: 1px solid gray;flex-grow: 1;}#sk-container-id-1 div.sk-label:hover label.sk-toggleable__label {background-color: #d4ebff;}#sk-container-id-1 div.sk-serial::before {content: \"\";position: absolute;border-left: 1px solid gray;box-sizing: border-box;top: 0;bottom: 0;left: 50%;z-index: 0;}#sk-container-id-1 div.sk-serial {display: flex;flex-direction: column;align-items: center;background-color: white;padding-right: 0.2em;padding-left: 0.2em;position: relative;}#sk-container-id-1 div.sk-item {position: relative;z-index: 1;}#sk-container-id-1 div.sk-parallel {display: flex;align-items: stretch;justify-content: center;background-color: white;position: relative;}#sk-container-id-1 div.sk-item::before, #sk-container-id-1 div.sk-parallel-item::before {content: \"\";position: absolute;border-left: 1px solid gray;box-sizing: border-box;top: 0;bottom: 0;left: 50%;z-index: -1;}#sk-container-id-1 div.sk-parallel-item {display: flex;flex-direction: column;z-index: 1;position: relative;background-color: white;}#sk-container-id-1 div.sk-parallel-item:first-child::after {align-self: flex-end;width: 50%;}#sk-container-id-1 div.sk-parallel-item:last-child::after {align-self: flex-start;width: 50%;}#sk-container-id-1 div.sk-parallel-item:only-child::after {width: 0;}#sk-container-id-1 div.sk-dashed-wrapped {border: 1px dashed gray;margin: 0 0.4em 0.5em 0.4em;box-sizing: border-box;padding-bottom: 0.4em;background-color: white;}#sk-container-id-1 div.sk-label label {font-family: monospace;font-weight: bold;display: inline-block;line-height: 1.2em;}#sk-container-id-1 div.sk-label-container {text-align: center;}#sk-container-id-1 div.sk-container {/* jupyter's `normalize.less` sets `[hidden] { display: none; }` but bootstrap.min.css set `[hidden] { display: none !important; }` so we also need the `!important` here to be able to override the default hidden behavior on the sphinx rendered scikit-learn.org. See: https://github.com/scikit-learn/scikit-learn/issues/21755 */display: inline-block !important;position: relative;}#sk-container-id-1 div.sk-text-repr-fallback {display: none;}</style><div id=\"sk-container-id-1\" class=\"sk-top-container\"><div class=\"sk-text-repr-fallback\"><pre>Pipeline(steps=[(&#x27;vect&#x27;,\n",
       "                 CountVectorizer(tokenizer=&lt;function tokenize at 0x00000296D652E5E0&gt;)),\n",
       "                (&#x27;tfidf&#x27;, TfidfTransformer()),\n",
       "                (&#x27;clf&#x27;,\n",
       "                 MultiOutputClassifier(estimator=RandomForestClassifier()))])</pre><b>In a Jupyter environment, please rerun this cell to show the HTML representation or trust the notebook. <br />On GitHub, the HTML representation is unable to render, please try loading this page with nbviewer.org.</b></div><div class=\"sk-container\" hidden><div class=\"sk-item sk-dashed-wrapped\"><div class=\"sk-label-container\"><div class=\"sk-label sk-toggleable\"><input class=\"sk-toggleable__control sk-hidden--visually\" id=\"sk-estimator-id-1\" type=\"checkbox\" ><label for=\"sk-estimator-id-1\" class=\"sk-toggleable__label sk-toggleable__label-arrow\">Pipeline</label><div class=\"sk-toggleable__content\"><pre>Pipeline(steps=[(&#x27;vect&#x27;,\n",
       "                 CountVectorizer(tokenizer=&lt;function tokenize at 0x00000296D652E5E0&gt;)),\n",
       "                (&#x27;tfidf&#x27;, TfidfTransformer()),\n",
       "                (&#x27;clf&#x27;,\n",
       "                 MultiOutputClassifier(estimator=RandomForestClassifier()))])</pre></div></div></div><div class=\"sk-serial\"><div class=\"sk-item\"><div class=\"sk-estimator sk-toggleable\"><input class=\"sk-toggleable__control sk-hidden--visually\" id=\"sk-estimator-id-2\" type=\"checkbox\" ><label for=\"sk-estimator-id-2\" class=\"sk-toggleable__label sk-toggleable__label-arrow\">CountVectorizer</label><div class=\"sk-toggleable__content\"><pre>CountVectorizer(tokenizer=&lt;function tokenize at 0x00000296D652E5E0&gt;)</pre></div></div></div><div class=\"sk-item\"><div class=\"sk-estimator sk-toggleable\"><input class=\"sk-toggleable__control sk-hidden--visually\" id=\"sk-estimator-id-3\" type=\"checkbox\" ><label for=\"sk-estimator-id-3\" class=\"sk-toggleable__label sk-toggleable__label-arrow\">TfidfTransformer</label><div class=\"sk-toggleable__content\"><pre>TfidfTransformer()</pre></div></div></div><div class=\"sk-item sk-dashed-wrapped\"><div class=\"sk-label-container\"><div class=\"sk-label sk-toggleable\"><input class=\"sk-toggleable__control sk-hidden--visually\" id=\"sk-estimator-id-4\" type=\"checkbox\" ><label for=\"sk-estimator-id-4\" class=\"sk-toggleable__label sk-toggleable__label-arrow\">clf: MultiOutputClassifier</label><div class=\"sk-toggleable__content\"><pre>MultiOutputClassifier(estimator=RandomForestClassifier())</pre></div></div></div><div class=\"sk-parallel\"><div class=\"sk-parallel-item\"><div class=\"sk-item\"><div class=\"sk-label-container\"><div class=\"sk-label sk-toggleable\"><input class=\"sk-toggleable__control sk-hidden--visually\" id=\"sk-estimator-id-5\" type=\"checkbox\" ><label for=\"sk-estimator-id-5\" class=\"sk-toggleable__label sk-toggleable__label-arrow\">estimator: RandomForestClassifier</label><div class=\"sk-toggleable__content\"><pre>RandomForestClassifier()</pre></div></div></div><div class=\"sk-serial\"><div class=\"sk-item\"><div class=\"sk-estimator sk-toggleable\"><input class=\"sk-toggleable__control sk-hidden--visually\" id=\"sk-estimator-id-6\" type=\"checkbox\" ><label for=\"sk-estimator-id-6\" class=\"sk-toggleable__label sk-toggleable__label-arrow\">RandomForestClassifier</label><div class=\"sk-toggleable__content\"><pre>RandomForestClassifier()</pre></div></div></div></div></div></div></div></div></div></div></div></div>"
      ],
      "text/plain": [
       "Pipeline(steps=[('vect',\n",
       "                 CountVectorizer(tokenizer=<function tokenize at 0x00000296D652E5E0>)),\n",
       "                ('tfidf', TfidfTransformer()),\n",
       "                ('clf',\n",
       "                 MultiOutputClassifier(estimator=RandomForestClassifier()))])"
      ]
     },
     "execution_count": 60,
     "metadata": {},
     "output_type": "execute_result"
    }
   ],
   "source": [
    "small_pipe.fit(X_train, y_train)"
   ]
  },
  {
   "cell_type": "code",
   "execution_count": null,
   "metadata": {},
   "outputs": [],
   "source": [
    "y_pred = small_pipe.predict(X_test)"
   ]
  },
  {
   "cell_type": "code",
   "execution_count": 56,
   "metadata": {},
   "outputs": [],
   "source": [
    "\n",
    "def build_model():\n",
    "    # text processing and model pipeline\n",
    "    model_pipeline = Pipeline([\n",
    "        ('vect', CountVectorizer(tokenizer=tokenize)),\n",
    "        ('tfidf', TfidfTransformer()),\n",
    "        ('clf', MultiOutputClassifier(RandomForestClassifier()))\n",
    "    ])\n",
    "\n",
    "    # define parameters for GridSearchCV\n",
    "    parameters = {\n",
    "        'tfidf__use_idf': (True, False),\n",
    "        'tfidf__smooth_idf': [True, False],\n",
    "        'vect__max_df': (0.5, 0.75, 1.0),\n",
    "        'vect__max_features': (None, 5000, 10000),\n",
    "        'clf__estimator__n_estimators': [50, 100],\n",
    "        'clf__estimator__min_samples_split': [2, 4]\n",
    "    }\n",
    "    cv = GridSearchCV(model_pipeline, param_grid=parameters)\n",
    "\n",
    "    # create gridsearch object and return as final model pipeline\n",
    "\n",
    "    return cv"
   ]
  },
  {
   "cell_type": "code",
   "execution_count": null,
   "metadata": {},
   "outputs": [],
   "source": [
    "\n",
    "model = build_model()"
   ]
  },
  {
   "cell_type": "code",
   "execution_count": null,
   "metadata": {},
   "outputs": [],
   "source": [
    "\n",
    "def train(X, y, model):\n",
    "    # train test split\n",
    "    X_train, X_test, y_train, y_test = train_test_split(X, y, test_size=0.25, random_state=42)\n",
    "    print(f\"{len(X_train)}\\n{len(X_test)}\\n{len(y_train)}\\n{len(y_test)}\")\n",
    "\n",
    "    # fit model with hyper parameters\n",
    "    model.fit(X_train, y_train)\n",
    "\n",
    "    # output model test results\n",
    "    # predict on new model\n",
    "    y_pred = model.predict(X_test)\n",
    "    for i, category in enumerate(category_names):\n",
    "        print(f'Category: {category}')\n",
    "        print(classification_report(y_test.iloc[:, i], y_pred[:, i]))\n",
    "\n",
    "    print(f\"Model parameters:\\n{model.get_params()}\")\n",
    "    return model"
   ]
  },
  {
   "cell_type": "code",
   "execution_count": null,
   "metadata": {},
   "outputs": [],
   "source": [
    "trained_model = train(X,y, model)"
   ]
  },
  {
   "cell_type": "code",
   "execution_count": null,
   "metadata": {},
   "outputs": [],
   "source": [
    "\n",
    "def export_model(model, model_filepath):\n",
    "    # Export model as a pickle file\n",
    "    with open(model_filepath, 'wb') as file:\n",
    "        pickle.dump(model, file)"
   ]
  },
  {
   "cell_type": "code",
   "execution_count": null,
   "metadata": {},
   "outputs": [],
   "source": [
    "export_model(model=trained_model, model_filepath=\"\")"
   ]
  },
  {
   "cell_type": "code",
   "execution_count": null,
   "metadata": {},
   "outputs": [],
   "source": [
    "\n",
    "def run_pipeline(data_file):\n",
    "    X, y = load_data(data_file)  # run ETL pipeline\n",
    "    model = build_model()  # build model pipeline\n",
    "    model = train(X, y, model)  # train model pipeline\n",
    "    export_model(model)  # save model\n",
    "\n",
    "\n",
    "if __name__ == '__main__':\n",
    "    data_file = sys.argv[1]  # get filename of dataset\n",
    "    run_pipeline(data_file)  # run data pipeline\n"
   ]
  },
  {
   "cell_type": "code",
   "execution_count": null,
   "metadata": {},
   "outputs": [],
   "source": []
  }
 ],
 "metadata": {
  "kernelspec": {
   "display_name": "proj_uda_nlpdis_venv",
   "language": "python",
   "name": "python3"
  },
  "language_info": {
   "codemirror_mode": {
    "name": "ipython",
    "version": 3
   },
   "file_extension": ".py",
   "mimetype": "text/x-python",
   "name": "python",
   "nbconvert_exporter": "python",
   "pygments_lexer": "ipython3",
   "version": "3.8.10"
  },
  "orig_nbformat": 4
 },
 "nbformat": 4,
 "nbformat_minor": 2
}
