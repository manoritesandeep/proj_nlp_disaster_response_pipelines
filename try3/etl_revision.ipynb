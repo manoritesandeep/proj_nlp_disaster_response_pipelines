{
 "cells": [
  {
   "cell_type": "code",
   "execution_count": null,
   "metadata": {},
   "outputs": [],
   "source": [
    "import sys\n",
    "import pandas as pd\n",
    "from sqlalchemy import create_engine\n",
    "\n",
    "def load_data(messages_filepath, categories_filepath):\n",
    "    \"\"\"\n",
    "    Load messages and categories data from filepaths and merge them into a single dataframe.\n",
    "    \n",
    "    Args:\n",
    "        messages_filepath (str): Filepath of the messages data.\n",
    "        categories_filepath (str): Filepath of the categories data.\n",
    "    \n",
    "    Returns:\n",
    "        df (pandas.DataFrame): Merged dataframe of messages and categories.\n",
    "    \"\"\"\n",
    "    messages = pd.read_csv(messages_filepath)\n",
    "    categories = pd.read_csv(categories_filepath)\n",
    "    df = pd.merge(messages, categories, on='id')\n",
    "    return df\n",
    "\n",
    "def clean_data(df):\n",
    "    \"\"\"\n",
    "    Clean the merged dataframe by splitting the categories column into separate, clearly named columns,\n",
    "    converting values to binary, and dropping duplicates.\n",
    "    \n",
    "    Args:\n",
    "        df (pandas.DataFrame): Merged dataframe of messages and categories.\n",
    "    \n",
    "    Returns:\n",
    "        df (pandas.DataFrame): Cleaned dataframe.\n",
    "    \"\"\"\n",
    "    categories = df['categories'].str.split(';', expand=True)\n",
    "    row = categories.iloc[0]\n",
    "    category_colnames = row.apply(lambda x: x[:-2])\n",
    "    categories.columns = category_colnames\n",
    "    \n",
    "    for column in categories:\n",
    "        categories[column] = categories[column].str[-1]\n",
    "        categories[column] = categories[column].astype(int)\n",
    "    \n",
    "    df = df.drop('categories', axis=1)\n",
    "    df = pd.concat([df, categories], axis=1)\n",
    "    df = df.drop_duplicates()\n",
    "    \n",
    "    return df\n",
    "\n"
   ]
  },
  {
   "cell_type": "code",
   "execution_count": 2,
   "metadata": {},
   "outputs": [],
   "source": [
    "import numpy as np\n",
    "import pandas as pd\n"
   ]
  },
  {
   "cell_type": "code",
   "execution_count": 11,
   "metadata": {},
   "outputs": [
    {
     "name": "stdout",
     "output_type": "stream",
     "text": [
      "Index(['id', 'message', 'original', 'genre', 'categories'], dtype='object')\n"
     ]
    }
   ],
   "source": [
    "messages = pd.read_csv(\"disaster_messages.csv\")\n",
    "categories = pd.read_csv(\"disaster_categories.csv\")\n",
    "df = pd.merge(messages, categories, on='id')\n",
    "print(df.columns)"
   ]
  },
  {
   "cell_type": "code",
   "execution_count": 8,
   "metadata": {},
   "outputs": [
    {
     "name": "stdout",
     "output_type": "stream",
     "text": [
      "Index(['id', 'message', 'original', 'genre', 'related', 'request', 'offer',\n",
      "       'aid_related', 'medical_help', 'medical_products', 'search_and_rescue',\n",
      "       'security', 'military', 'child_alone', 'water', 'food', 'shelter',\n",
      "       'clothing', 'money', 'missing_people', 'refugees', 'death', 'other_aid',\n",
      "       'infrastructure_related', 'transport', 'buildings', 'electricity',\n",
      "       'tools', 'hospitals', 'shops', 'aid_centers', 'other_infrastructure',\n",
      "       'weather_related', 'floods', 'storm', 'fire', 'earthquake', 'cold',\n",
      "       'other_weather', 'direct_report'],\n",
      "      dtype='object')\n"
     ]
    }
   ],
   "source": [
    "categories = df['categories'].str.split(';', expand=True)\n",
    "row = categories.iloc[0]\n",
    "category_colnames = row.apply(lambda x: x[:-2])\n",
    "categories.columns = category_colnames\n",
    "\n",
    "for column in categories:\n",
    "    categories[column] = categories[column].str[-1]\n",
    "    categories[column] = categories[column].astype(int)\n",
    "\n",
    "# Change the value of 2 to 1 in the \"related\" column\n",
    "categories['related'] = categories['related'].replace(2, 1)\n",
    "\n",
    "df = df.drop('categories', axis=1)\n",
    "df = pd.concat([df, categories], axis=1)\n",
    "df = df.drop_duplicates()\n",
    "\n",
    "print(df.columns)"
   ]
  },
  {
   "cell_type": "code",
   "execution_count": 9,
   "metadata": {},
   "outputs": [
    {
     "data": {
      "text/plain": [
       "array([1, 0])"
      ]
     },
     "execution_count": 9,
     "metadata": {},
     "output_type": "execute_result"
    }
   ],
   "source": [
    "df.related.unique()"
   ]
  },
  {
   "cell_type": "code",
   "execution_count": 12,
   "metadata": {},
   "outputs": [
    {
     "name": "stdout",
     "output_type": "stream",
     "text": [
      "Index(['id', 'message', 'original', 'genre', 'related', 'request', 'offer',\n",
      "       'aid_related', 'medical_help', 'medical_products', 'search_and_rescue',\n",
      "       'security', 'military', 'child_alone', 'water', 'food', 'shelter',\n",
      "       'clothing', 'money', 'missing_people', 'refugees', 'death', 'other_aid',\n",
      "       'infrastructure_related', 'transport', 'buildings', 'electricity',\n",
      "       'tools', 'hospitals', 'shops', 'aid_centers', 'other_infrastructure',\n",
      "       'weather_related', 'floods', 'storm', 'fire', 'earthquake', 'cold',\n",
      "       'other_weather', 'direct_report'],\n",
      "      dtype='object')\n"
     ]
    }
   ],
   "source": [
    "# method 2\n",
    "categories = df['categories'].str.split(';', expand=True)\n",
    "row = categories.iloc[0]\n",
    "category_colnames = row.apply(lambda x: x[:-2])\n",
    "categories.columns = category_colnames\n",
    "\n",
    "# for column in categories:\n",
    "#     categories[column] = categories[column].str[-1]\n",
    "#     categories[column] = categories[column].astype(int)\n",
    "\n",
    "# # Change the value of 2 to 1 in the \"related\" column\n",
    "# categories['related'] = categories['related'].replace(2, 1)\n",
    "\n",
    "for column in categories:\n",
    "    # Convert non-binary values to binary (1)\n",
    "    categories[column] = categories[column].apply(lambda x: 1 if int(x[-1]) > 0 else 0)\n",
    "\n",
    "df = df.drop('categories', axis=1)\n",
    "df = pd.concat([df, categories], axis=1)\n",
    "df = df.drop_duplicates()\n",
    "\n",
    "print(df.columns)\n",
    "\n"
   ]
  },
  {
   "cell_type": "code",
   "execution_count": 13,
   "metadata": {},
   "outputs": [
    {
     "data": {
      "text/plain": [
       "array([1, 0], dtype=int64)"
      ]
     },
     "execution_count": 13,
     "metadata": {},
     "output_type": "execute_result"
    }
   ],
   "source": [
    "df.related.unique()"
   ]
  },
  {
   "cell_type": "code",
   "execution_count": null,
   "metadata": {},
   "outputs": [],
   "source": []
  }
 ],
 "metadata": {
  "kernelspec": {
   "display_name": "proj_uda_nlpdis_venv",
   "language": "python",
   "name": "python3"
  },
  "language_info": {
   "codemirror_mode": {
    "name": "ipython",
    "version": 3
   },
   "file_extension": ".py",
   "mimetype": "text/x-python",
   "name": "python",
   "nbconvert_exporter": "python",
   "pygments_lexer": "ipython3",
   "version": "3.8.10"
  },
  "orig_nbformat": 4
 },
 "nbformat": 4,
 "nbformat_minor": 2
}
